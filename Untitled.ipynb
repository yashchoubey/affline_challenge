{
 "cells": [
  {
   "cell_type": "code",
   "execution_count": null,
   "metadata": {},
   "outputs": [],
   "source": [
    "import pandas as pd\n",
    "import graphlab\n",
    "# pass in column names for each CSV and read them using pandas. \n",
    "# Column names available in the readme file\n",
    "\n",
    "#Reading users file:\n",
    "u_cols=['challenge_id','contest_id','domain','subdomain','difficulty','solved_submission_count','total_submissions_count']\n",
    "challenges = pd.read_csv('challenges.csv',  names=u_cols,)\n",
    "\n",
    "#Reading ratings file:\n",
    "r_cols=['hacker_id','contest_id','challenge_id','language','solved','created_at']\n",
    "ratings = pd.read_csv('submissions.csv', sep='\\t', names=r_cols,\n",
    " encoding='latin-1')\n",
    "\n",
    "\n",
    "r_cols = ['hacker_id','challenge_id','matrix_score']\n",
    "train_data = graphlab.SFrame.read_csv('train.csv',header=True,column_type_hints=[str,str,int])\n",
    "test_data = graphlab.SFrame.read_csv('test.csv',header=True,column_type_hints=[str,str,int])\n",
    "#print train.shape, test.shape\n",
    "\n",
    "\n",
    "\n",
    "#########A Simple Popularity Model############\n",
    "popularity_model = graphlab.popularity_recommender.create(train_data, user_id='hacker_id', item_id='challenge_id', target='matrix_score')\n",
    "popularity_recomm = popularity_model.recommend(users=None,k=10)\n",
    "popularity_recomm.print_rows(num_rows=25)\n",
    "\n",
    "\n",
    "#predict, recommend, evaluate, and save\n",
    "###########A Collaborative Filtering Model##############\n",
    "#Train Model\n",
    "item_sim_model = graphlab.item_similarity_recommender.create(train_data, user_id='hacker_id', item_id='challenge_id', target='matrix_score', similarity_type='pearson')\n",
    "\n",
    "item_sim_model.show()\n",
    "print \"##########################################\"\n",
    "#Make Recommendations:\n",
    "item_sim_recomm = item_sim_model.recommend(users=None,k=10)\n",
    "item_sim_recomm.print_rows(num_rows=25)\n",
    "\n",
    "###################checking performance################\n",
    "model_performance = graphlab.compare(test_data, [popularity_model, item_sim_model])\n"
   ]
  }
 ],
 "metadata": {
  "kernelspec": {
   "display_name": "Python 2",
   "language": "python",
   "name": "python2"
  },
  "language_info": {
   "codemirror_mode": {
    "name": "ipython",
    "version": 2
   },
   "file_extension": ".py",
   "mimetype": "text/x-python",
   "name": "python",
   "nbconvert_exporter": "python",
   "pygments_lexer": "ipython2",
   "version": "2.7.12"
  }
 },
 "nbformat": 4,
 "nbformat_minor": 2
}
