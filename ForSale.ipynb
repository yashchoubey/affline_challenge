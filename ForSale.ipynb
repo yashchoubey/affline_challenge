{
 "cells": [
  {
   "cell_type": "code",
   "execution_count": 14,
   "metadata": {},
   "outputs": [],
   "source": [
    "import pandas as pd\n",
    "import numpy as np\n",
    "df_prop=pd.read_csv(\"/home/yash/Downloads/dataset/Affline_Dataset/Property dataset/Properties.csv\")\n",
    "df_pta=pd.read_csv(\"/home/yash/Downloads/dataset/Affline_Dataset/training dataset/Accounts_properties.csv\")\n"
   ]
  },
  {
   "cell_type": "code",
   "execution_count": 2,
   "metadata": {},
   "outputs": [
    {
     "data": {
      "text/html": [
       "<div>\n",
       "<style scoped>\n",
       "    .dataframe tbody tr th:only-of-type {\n",
       "        vertical-align: middle;\n",
       "    }\n",
       "\n",
       "    .dataframe tbody tr th {\n",
       "        vertical-align: top;\n",
       "    }\n",
       "\n",
       "    .dataframe thead th {\n",
       "        text-align: right;\n",
       "    }\n",
       "</style>\n",
       "<table border=\"1\" class=\"dataframe\">\n",
       "  <thead>\n",
       "    <tr style=\"text-align: right;\">\n",
       "      <th></th>\n",
       "      <th>id_props</th>\n",
       "      <th>building_status</th>\n",
       "      <th>building_tax_expenses</th>\n",
       "      <th>id_deals</th>\n",
       "      <th>city</th>\n",
       "      <th>class</th>\n",
       "      <th>county</th>\n",
       "      <th>sale_status</th>\n",
       "      <th>portfolio</th>\n",
       "      <th>market</th>\n",
       "      <th>...</th>\n",
       "      <th>price_per_sq_ft</th>\n",
       "      <th>price_per_unit</th>\n",
       "      <th>property_type_1</th>\n",
       "      <th>region__c</th>\n",
       "      <th>sale_amount__c</th>\n",
       "      <th>sale_date__c</th>\n",
       "      <th>size_acres</th>\n",
       "      <th>size_sf</th>\n",
       "      <th>size_units</th>\n",
       "      <th>year_built</th>\n",
       "    </tr>\n",
       "  </thead>\n",
       "  <tbody>\n",
       "    <tr>\n",
       "      <th>0</th>\n",
       "      <td>a0I2A00000XQGKlUAP</td>\n",
       "      <td>Existing</td>\n",
       "      <td>2009 Tax @ $1.25/sf</td>\n",
       "      <td>a0I2A00000XQGKlUAP</td>\n",
       "      <td>City-0488</td>\n",
       "      <td>Class B</td>\n",
       "      <td>County-0172</td>\n",
       "      <td>N</td>\n",
       "      <td>False</td>\n",
       "      <td>Market-0059</td>\n",
       "      <td>...</td>\n",
       "      <td>46.59</td>\n",
       "      <td>18350000.00</td>\n",
       "      <td>Industrial</td>\n",
       "      <td>Southwest</td>\n",
       "      <td>1.835000e+07</td>\n",
       "      <td>7/10/2015</td>\n",
       "      <td>3.760</td>\n",
       "      <td>393862.0</td>\n",
       "      <td>1.0</td>\n",
       "      <td>1980.0</td>\n",
       "    </tr>\n",
       "    <tr>\n",
       "      <th>1</th>\n",
       "      <td>a0I2A00000XQGKnUAP</td>\n",
       "      <td>NaN</td>\n",
       "      <td>NaN</td>\n",
       "      <td>a0I2A00000XQGKnUAP</td>\n",
       "      <td>City-1975</td>\n",
       "      <td>Class A</td>\n",
       "      <td>County-0465</td>\n",
       "      <td>Y</td>\n",
       "      <td>True</td>\n",
       "      <td>Market-0239</td>\n",
       "      <td>...</td>\n",
       "      <td>1141.55</td>\n",
       "      <td>2109090.91</td>\n",
       "      <td>Multi-Housing</td>\n",
       "      <td>Southeast</td>\n",
       "      <td>2.144058e+07</td>\n",
       "      <td>12/31/2016</td>\n",
       "      <td>19.600</td>\n",
       "      <td>508080.0</td>\n",
       "      <td>275.0</td>\n",
       "      <td>2014.0</td>\n",
       "    </tr>\n",
       "    <tr>\n",
       "      <th>2</th>\n",
       "      <td>a0I2A00000XQGKoUAP</td>\n",
       "      <td>Existing</td>\n",
       "      <td>2016 Tax @ $5.63/sf; 2007 Ops @ $19.58/sf, 201...</td>\n",
       "      <td>a0I2A00000XQGKoUAP</td>\n",
       "      <td>City-1415</td>\n",
       "      <td>Class B</td>\n",
       "      <td>County-0452</td>\n",
       "      <td>N</td>\n",
       "      <td>False</td>\n",
       "      <td>Market-0165</td>\n",
       "      <td>...</td>\n",
       "      <td>1506.65</td>\n",
       "      <td>NaN</td>\n",
       "      <td>Retail</td>\n",
       "      <td>Northeast</td>\n",
       "      <td>2.754156e+07</td>\n",
       "      <td>9/30/2016</td>\n",
       "      <td>0.266</td>\n",
       "      <td>18280.0</td>\n",
       "      <td>NaN</td>\n",
       "      <td>1902.0</td>\n",
       "    </tr>\n",
       "    <tr>\n",
       "      <th>3</th>\n",
       "      <td>a0I2A00000XQGKpUAP</td>\n",
       "      <td>NaN</td>\n",
       "      <td>NaN</td>\n",
       "      <td>a0I2A00000XQGKpUAP</td>\n",
       "      <td>City-1415</td>\n",
       "      <td>Class A</td>\n",
       "      <td>County-0452</td>\n",
       "      <td>N</td>\n",
       "      <td>False</td>\n",
       "      <td>Market-0165</td>\n",
       "      <td>...</td>\n",
       "      <td>580.83</td>\n",
       "      <td>1220689.66</td>\n",
       "      <td>NaN</td>\n",
       "      <td>Northeast</td>\n",
       "      <td>1.416000e+08</td>\n",
       "      <td>1/21/2016</td>\n",
       "      <td>0.530</td>\n",
       "      <td>243789.0</td>\n",
       "      <td>116.0</td>\n",
       "      <td>NaN</td>\n",
       "    </tr>\n",
       "    <tr>\n",
       "      <th>4</th>\n",
       "      <td>a0I2A00000XQGKqUAP</td>\n",
       "      <td>NaN</td>\n",
       "      <td>NaN</td>\n",
       "      <td>a0I2A00000XQGKqUAP</td>\n",
       "      <td>City-0941</td>\n",
       "      <td>NaN</td>\n",
       "      <td>County-0284</td>\n",
       "      <td>N</td>\n",
       "      <td>False</td>\n",
       "      <td>Market-0106</td>\n",
       "      <td>...</td>\n",
       "      <td>NaN</td>\n",
       "      <td>NaN</td>\n",
       "      <td>Self-Storage</td>\n",
       "      <td>Southwest</td>\n",
       "      <td>0.000000e+00</td>\n",
       "      <td>9/30/2014</td>\n",
       "      <td>NaN</td>\n",
       "      <td>NaN</td>\n",
       "      <td>NaN</td>\n",
       "      <td>NaN</td>\n",
       "    </tr>\n",
       "  </tbody>\n",
       "</table>\n",
       "<p>5 rows × 24 columns</p>\n",
       "</div>"
      ],
      "text/plain": [
       "             id_props building_status  \\\n",
       "0  a0I2A00000XQGKlUAP        Existing   \n",
       "1  a0I2A00000XQGKnUAP             NaN   \n",
       "2  a0I2A00000XQGKoUAP        Existing   \n",
       "3  a0I2A00000XQGKpUAP             NaN   \n",
       "4  a0I2A00000XQGKqUAP             NaN   \n",
       "\n",
       "                               building_tax_expenses            id_deals  \\\n",
       "0                                2009 Tax @ $1.25/sf  a0I2A00000XQGKlUAP   \n",
       "1                                                NaN  a0I2A00000XQGKnUAP   \n",
       "2  2016 Tax @ $5.63/sf; 2007 Ops @ $19.58/sf, 201...  a0I2A00000XQGKoUAP   \n",
       "3                                                NaN  a0I2A00000XQGKpUAP   \n",
       "4                                                NaN  a0I2A00000XQGKqUAP   \n",
       "\n",
       "        city    class       county sale_status  portfolio       market  \\\n",
       "0  City-0488  Class B  County-0172           N      False  Market-0059   \n",
       "1  City-1975  Class A  County-0465           Y       True  Market-0239   \n",
       "2  City-1415  Class B  County-0452           N      False  Market-0165   \n",
       "3  City-1415  Class A  County-0452           N      False  Market-0165   \n",
       "4  City-0941      NaN  County-0284           N      False  Market-0106   \n",
       "\n",
       "     ...      price_per_sq_ft  price_per_unit  property_type_1  region__c  \\\n",
       "0    ...                46.59     18350000.00       Industrial  Southwest   \n",
       "1    ...              1141.55      2109090.91    Multi-Housing  Southeast   \n",
       "2    ...              1506.65             NaN           Retail  Northeast   \n",
       "3    ...               580.83      1220689.66              NaN  Northeast   \n",
       "4    ...                  NaN             NaN     Self-Storage  Southwest   \n",
       "\n",
       "   sale_amount__c  sale_date__c size_acres   size_sf  size_units year_built  \n",
       "0    1.835000e+07     7/10/2015      3.760  393862.0         1.0     1980.0  \n",
       "1    2.144058e+07    12/31/2016     19.600  508080.0       275.0     2014.0  \n",
       "2    2.754156e+07     9/30/2016      0.266   18280.0         NaN     1902.0  \n",
       "3    1.416000e+08     1/21/2016      0.530  243789.0       116.0        NaN  \n",
       "4    0.000000e+00     9/30/2014        NaN       NaN         NaN        NaN  \n",
       "\n",
       "[5 rows x 24 columns]"
      ]
     },
     "execution_count": 2,
     "metadata": {},
     "output_type": "execute_result"
    }
   ],
   "source": [
    "df_prop.head()"
   ]
  },
  {
   "cell_type": "code",
   "execution_count": 3,
   "metadata": {},
   "outputs": [
    {
     "data": {
      "text/html": [
       "<div>\n",
       "<style scoped>\n",
       "    .dataframe tbody tr th:only-of-type {\n",
       "        vertical-align: middle;\n",
       "    }\n",
       "\n",
       "    .dataframe tbody tr th {\n",
       "        vertical-align: top;\n",
       "    }\n",
       "\n",
       "    .dataframe thead th {\n",
       "        text-align: right;\n",
       "    }\n",
       "</style>\n",
       "<table border=\"1\" class=\"dataframe\">\n",
       "  <thead>\n",
       "    <tr style=\"text-align: right;\">\n",
       "      <th></th>\n",
       "      <th>id</th>\n",
       "      <th>id_deals</th>\n",
       "      <th>id_accs</th>\n",
       "      <th>id_props</th>\n",
       "    </tr>\n",
       "  </thead>\n",
       "  <tbody>\n",
       "    <tr>\n",
       "      <th>0</th>\n",
       "      <td>a062A00001Whq5tQAB</td>\n",
       "      <td>a062A00001Whq5tQAB</td>\n",
       "      <td>0012A000023XlCCQA0</td>\n",
       "      <td>a0I2A00000XQKwXUAX</td>\n",
       "    </tr>\n",
       "    <tr>\n",
       "      <th>1</th>\n",
       "      <td>a062A00001VmP7EQAV</td>\n",
       "      <td>a062A00001VmP7EQAV</td>\n",
       "      <td>0012A000023XmOxQAK</td>\n",
       "      <td>a0I2A00000XvUEwUAN</td>\n",
       "    </tr>\n",
       "    <tr>\n",
       "      <th>2</th>\n",
       "      <td>a062A00001VmQByQAN</td>\n",
       "      <td>a062A00001VmQByQAN</td>\n",
       "      <td>0012A000023XmOxQAK</td>\n",
       "      <td>a0I2A00000XwQ13UAF</td>\n",
       "    </tr>\n",
       "    <tr>\n",
       "      <th>3</th>\n",
       "      <td>a062A00001VmQC2QAN</td>\n",
       "      <td>a062A00001VmQC2QAN</td>\n",
       "      <td>0012A000023XmOxQAK</td>\n",
       "      <td>a0I2A00000XwZyBUAV</td>\n",
       "    </tr>\n",
       "    <tr>\n",
       "      <th>4</th>\n",
       "      <td>a062A00001VmW8wQAF</td>\n",
       "      <td>a062A00001VmW8wQAF</td>\n",
       "      <td>0012A000023XmOxQAK</td>\n",
       "      <td>a0I2A00000ZGZClUAP</td>\n",
       "    </tr>\n",
       "  </tbody>\n",
       "</table>\n",
       "</div>"
      ],
      "text/plain": [
       "                   id            id_deals             id_accs  \\\n",
       "0  a062A00001Whq5tQAB  a062A00001Whq5tQAB  0012A000023XlCCQA0   \n",
       "1  a062A00001VmP7EQAV  a062A00001VmP7EQAV  0012A000023XmOxQAK   \n",
       "2  a062A00001VmQByQAN  a062A00001VmQByQAN  0012A000023XmOxQAK   \n",
       "3  a062A00001VmQC2QAN  a062A00001VmQC2QAN  0012A000023XmOxQAK   \n",
       "4  a062A00001VmW8wQAF  a062A00001VmW8wQAF  0012A000023XmOxQAK   \n",
       "\n",
       "             id_props  \n",
       "0  a0I2A00000XQKwXUAX  \n",
       "1  a0I2A00000XvUEwUAN  \n",
       "2  a0I2A00000XwQ13UAF  \n",
       "3  a0I2A00000XwZyBUAV  \n",
       "4  a0I2A00000ZGZClUAP  "
      ]
     },
     "execution_count": 3,
     "metadata": {},
     "output_type": "execute_result"
    }
   ],
   "source": [
    "df_pta.head()"
   ]
  },
  {
   "cell_type": "code",
   "execution_count": 6,
   "metadata": {},
   "outputs": [
    {
     "data": {
      "text/plain": [
       "(70350, 4)"
      ]
     },
     "execution_count": 6,
     "metadata": {},
     "output_type": "execute_result"
    }
   ],
   "source": [
    "acquired_props=df_pta.id_props.unique()\n",
    "df_pta.shape"
   ]
  },
  {
   "cell_type": "code",
   "execution_count": 5,
   "metadata": {},
   "outputs": [
    {
     "data": {
      "text/plain": [
       "(63001,)"
      ]
     },
     "execution_count": 5,
     "metadata": {},
     "output_type": "execute_result"
    }
   ],
   "source": [
    "acquired_props.shape"
   ]
  },
  {
   "cell_type": "code",
   "execution_count": 7,
   "metadata": {},
   "outputs": [],
   "source": [
    "all_props=df_prop.id_props.unique()"
   ]
  },
  {
   "cell_type": "code",
   "execution_count": 9,
   "metadata": {},
   "outputs": [
    {
     "data": {
      "text/plain": [
       "(18298,)"
      ]
     },
     "execution_count": 9,
     "metadata": {},
     "output_type": "execute_result"
    }
   ],
   "source": [
    "all_props.shape"
   ]
  },
  {
   "cell_type": "code",
   "execution_count": 10,
   "metadata": {},
   "outputs": [],
   "source": [
    "forSale=[x for x in all_props if x not in acquired_props]"
   ]
  },
  {
   "cell_type": "code",
   "execution_count": 12,
   "metadata": {},
   "outputs": [
    {
     "data": {
      "text/plain": [
       "3685"
      ]
     },
     "execution_count": 12,
     "metadata": {},
     "output_type": "execute_result"
    }
   ],
   "source": [
    "len(forSale)"
   ]
  },
  {
   "cell_type": "code",
   "execution_count": 13,
   "metadata": {},
   "outputs": [
    {
     "data": {
      "text/plain": [
       "numpy.ndarray"
      ]
     },
     "execution_count": 13,
     "metadata": {},
     "output_type": "execute_result"
    }
   ],
   "source": [
    "type(all_props)"
   ]
  },
  {
   "cell_type": "code",
   "execution_count": 15,
   "metadata": {},
   "outputs": [],
   "source": [
    "forSale=np.setdiff1d(all_props,acquired_props)"
   ]
  },
  {
   "cell_type": "code",
   "execution_count": 16,
   "metadata": {},
   "outputs": [
    {
     "data": {
      "text/plain": [
       "(3685,)"
      ]
     },
     "execution_count": 16,
     "metadata": {},
     "output_type": "execute_result"
    }
   ],
   "source": [
    "forSale.shape"
   ]
  },
  {
   "cell_type": "code",
   "execution_count": null,
   "metadata": {},
   "outputs": [],
   "source": []
  }
 ],
 "metadata": {
  "kernelspec": {
   "display_name": "Python 2",
   "language": "python",
   "name": "python2"
  },
  "language_info": {
   "codemirror_mode": {
    "name": "ipython",
    "version": 2
   },
   "file_extension": ".py",
   "mimetype": "text/x-python",
   "name": "python",
   "nbconvert_exporter": "python",
   "pygments_lexer": "ipython2",
   "version": "2.7.12"
  }
 },
 "nbformat": 4,
 "nbformat_minor": 2
}
