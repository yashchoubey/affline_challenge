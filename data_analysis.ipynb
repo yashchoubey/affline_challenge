{
 "cells": [
  {
   "cell_type": "code",
   "execution_count": 1,
   "metadata": {},
   "outputs": [],
   "source": [
    "import pandas as pd\n",
    "df=pd.read_csv(\"/home/yash/Downloads/dataset/Affline_Dataset/Property dataset/Properties.csv\")\n",
    "df=pd.read_csv(\"/home/yash/Downloads/dataset/Affline_Dataset/training dataset/Accounts.csv\")\n",
    "df=pd.read_csv(\"/home/yash/Downloads/dataset/Affline_Dataset/training dataset/Accounts_properties.csv\")\n",
    "# df=pd.read_csv(\"/home/yash/Downloads/dataset/Affline_Dataset/training dataset/Deals_to_Properties.csv\")\n",
    "# df=pd.read_csv(\"/home/yash/Downloads/dataset/Affline_Dataset/training dataset/Opportunities.csv\")"
   ]
  },
  {
   "cell_type": "code",
   "execution_count": 2,
   "metadata": {},
   "outputs": [
    {
     "data": {
      "text/html": [
       "<div>\n",
       "<style scoped>\n",
       "    .dataframe tbody tr th:only-of-type {\n",
       "        vertical-align: middle;\n",
       "    }\n",
       "\n",
       "    .dataframe tbody tr th {\n",
       "        vertical-align: top;\n",
       "    }\n",
       "\n",
       "    .dataframe thead th {\n",
       "        text-align: right;\n",
       "    }\n",
       "</style>\n",
       "<table border=\"1\" class=\"dataframe\">\n",
       "  <thead>\n",
       "    <tr style=\"text-align: right;\">\n",
       "      <th></th>\n",
       "      <th>id</th>\n",
       "      <th>id_deals</th>\n",
       "      <th>id_accs</th>\n",
       "      <th>id_props</th>\n",
       "    </tr>\n",
       "  </thead>\n",
       "  <tbody>\n",
       "    <tr>\n",
       "      <th>0</th>\n",
       "      <td>a062A00001Whq5tQAB</td>\n",
       "      <td>a062A00001Whq5tQAB</td>\n",
       "      <td>0012A000023XlCCQA0</td>\n",
       "      <td>a0I2A00000XQKwXUAX</td>\n",
       "    </tr>\n",
       "    <tr>\n",
       "      <th>1</th>\n",
       "      <td>a062A00001VmP7EQAV</td>\n",
       "      <td>a062A00001VmP7EQAV</td>\n",
       "      <td>0012A000023XmOxQAK</td>\n",
       "      <td>a0I2A00000XvUEwUAN</td>\n",
       "    </tr>\n",
       "    <tr>\n",
       "      <th>2</th>\n",
       "      <td>a062A00001VmQByQAN</td>\n",
       "      <td>a062A00001VmQByQAN</td>\n",
       "      <td>0012A000023XmOxQAK</td>\n",
       "      <td>a0I2A00000XwQ13UAF</td>\n",
       "    </tr>\n",
       "    <tr>\n",
       "      <th>3</th>\n",
       "      <td>a062A00001VmQC2QAN</td>\n",
       "      <td>a062A00001VmQC2QAN</td>\n",
       "      <td>0012A000023XmOxQAK</td>\n",
       "      <td>a0I2A00000XwZyBUAV</td>\n",
       "    </tr>\n",
       "    <tr>\n",
       "      <th>4</th>\n",
       "      <td>a062A00001VmW8wQAF</td>\n",
       "      <td>a062A00001VmW8wQAF</td>\n",
       "      <td>0012A000023XmOxQAK</td>\n",
       "      <td>a0I2A00000ZGZClUAP</td>\n",
       "    </tr>\n",
       "  </tbody>\n",
       "</table>\n",
       "</div>"
      ],
      "text/plain": [
       "                   id            id_deals             id_accs  \\\n",
       "0  a062A00001Whq5tQAB  a062A00001Whq5tQAB  0012A000023XlCCQA0   \n",
       "1  a062A00001VmP7EQAV  a062A00001VmP7EQAV  0012A000023XmOxQAK   \n",
       "2  a062A00001VmQByQAN  a062A00001VmQByQAN  0012A000023XmOxQAK   \n",
       "3  a062A00001VmQC2QAN  a062A00001VmQC2QAN  0012A000023XmOxQAK   \n",
       "4  a062A00001VmW8wQAF  a062A00001VmW8wQAF  0012A000023XmOxQAK   \n",
       "\n",
       "             id_props  \n",
       "0  a0I2A00000XQKwXUAX  \n",
       "1  a0I2A00000XvUEwUAN  \n",
       "2  a0I2A00000XwQ13UAF  \n",
       "3  a0I2A00000XwZyBUAV  \n",
       "4  a0I2A00000ZGZClUAP  "
      ]
     },
     "execution_count": 2,
     "metadata": {},
     "output_type": "execute_result"
    }
   ],
   "source": [
    "df.head()"
   ]
  },
  {
   "cell_type": "code",
   "execution_count": 37,
   "metadata": {},
   "outputs": [
    {
     "data": {
      "text/html": [
       "<div>\n",
       "<style scoped>\n",
       "    .dataframe tbody tr th:only-of-type {\n",
       "        vertical-align: middle;\n",
       "    }\n",
       "\n",
       "    .dataframe tbody tr th {\n",
       "        vertical-align: top;\n",
       "    }\n",
       "\n",
       "    .dataframe thead th {\n",
       "        text-align: right;\n",
       "    }\n",
       "</style>\n",
       "<table border=\"1\" class=\"dataframe\">\n",
       "  <thead>\n",
       "    <tr style=\"text-align: right;\">\n",
       "      <th></th>\n",
       "      <th>active_deals</th>\n",
       "      <th>activity_count</th>\n",
       "      <th>num_deals_as_client</th>\n",
       "      <th>num_deals_as_investor</th>\n",
       "      <th>number_of_properties</th>\n",
       "      <th>number_of_related_deals</th>\n",
       "      <th>number_of_related_properties</th>\n",
       "      <th>number_of_won_deals_as_client</th>\n",
       "    </tr>\n",
       "  </thead>\n",
       "  <tbody>\n",
       "    <tr>\n",
       "      <th>count</th>\n",
       "      <td>2756.000000</td>\n",
       "      <td>2756.000000</td>\n",
       "      <td>2756.000000</td>\n",
       "      <td>2756.000000</td>\n",
       "      <td>2756.000000</td>\n",
       "      <td>2756.000000</td>\n",
       "      <td>2756.000000</td>\n",
       "      <td>2756.000000</td>\n",
       "    </tr>\n",
       "    <tr>\n",
       "      <th>mean</th>\n",
       "      <td>16.461538</td>\n",
       "      <td>9460.461176</td>\n",
       "      <td>6.029390</td>\n",
       "      <td>10.450290</td>\n",
       "      <td>21.382075</td>\n",
       "      <td>21.567126</td>\n",
       "      <td>28.296807</td>\n",
       "      <td>4.881713</td>\n",
       "    </tr>\n",
       "    <tr>\n",
       "      <th>std</th>\n",
       "      <td>73.668032</td>\n",
       "      <td>20528.690928</td>\n",
       "      <td>17.879478</td>\n",
       "      <td>68.893548</td>\n",
       "      <td>69.984153</td>\n",
       "      <td>81.063531</td>\n",
       "      <td>84.415697</td>\n",
       "      <td>15.555176</td>\n",
       "    </tr>\n",
       "    <tr>\n",
       "      <th>min</th>\n",
       "      <td>0.000000</td>\n",
       "      <td>0.000000</td>\n",
       "      <td>0.000000</td>\n",
       "      <td>0.000000</td>\n",
       "      <td>0.000000</td>\n",
       "      <td>0.000000</td>\n",
       "      <td>1.000000</td>\n",
       "      <td>0.000000</td>\n",
       "    </tr>\n",
       "    <tr>\n",
       "      <th>25%</th>\n",
       "      <td>1.000000</td>\n",
       "      <td>299.000000</td>\n",
       "      <td>0.000000</td>\n",
       "      <td>1.000000</td>\n",
       "      <td>1.000000</td>\n",
       "      <td>1.000000</td>\n",
       "      <td>2.000000</td>\n",
       "      <td>0.000000</td>\n",
       "    </tr>\n",
       "    <tr>\n",
       "      <th>50%</th>\n",
       "      <td>3.000000</td>\n",
       "      <td>2354.000000</td>\n",
       "      <td>0.000000</td>\n",
       "      <td>1.000000</td>\n",
       "      <td>5.000000</td>\n",
       "      <td>4.000000</td>\n",
       "      <td>7.000000</td>\n",
       "      <td>0.000000</td>\n",
       "    </tr>\n",
       "    <tr>\n",
       "      <th>75%</th>\n",
       "      <td>10.000000</td>\n",
       "      <td>9818.250000</td>\n",
       "      <td>5.000000</td>\n",
       "      <td>4.000000</td>\n",
       "      <td>16.000000</td>\n",
       "      <td>16.000000</td>\n",
       "      <td>21.000000</td>\n",
       "      <td>3.000000</td>\n",
       "    </tr>\n",
       "    <tr>\n",
       "      <th>max</th>\n",
       "      <td>2215.000000</td>\n",
       "      <td>217301.000000</td>\n",
       "      <td>333.000000</td>\n",
       "      <td>2205.000000</td>\n",
       "      <td>1335.000000</td>\n",
       "      <td>2137.000000</td>\n",
       "      <td>1479.000000</td>\n",
       "      <td>330.000000</td>\n",
       "    </tr>\n",
       "  </tbody>\n",
       "</table>\n",
       "</div>"
      ],
      "text/plain": [
       "       active_deals  activity_count  num_deals_as_client  \\\n",
       "count   2756.000000     2756.000000          2756.000000   \n",
       "mean      16.461538     9460.461176             6.029390   \n",
       "std       73.668032    20528.690928            17.879478   \n",
       "min        0.000000        0.000000             0.000000   \n",
       "25%        1.000000      299.000000             0.000000   \n",
       "50%        3.000000     2354.000000             0.000000   \n",
       "75%       10.000000     9818.250000             5.000000   \n",
       "max     2215.000000   217301.000000           333.000000   \n",
       "\n",
       "       num_deals_as_investor  number_of_properties  number_of_related_deals  \\\n",
       "count            2756.000000           2756.000000              2756.000000   \n",
       "mean               10.450290             21.382075                21.567126   \n",
       "std                68.893548             69.984153                81.063531   \n",
       "min                 0.000000              0.000000                 0.000000   \n",
       "25%                 1.000000              1.000000                 1.000000   \n",
       "50%                 1.000000              5.000000                 4.000000   \n",
       "75%                 4.000000             16.000000                16.000000   \n",
       "max              2205.000000           1335.000000              2137.000000   \n",
       "\n",
       "       number_of_related_properties  number_of_won_deals_as_client  \n",
       "count                   2756.000000                    2756.000000  \n",
       "mean                      28.296807                       4.881713  \n",
       "std                       84.415697                      15.555176  \n",
       "min                        1.000000                       0.000000  \n",
       "25%                        2.000000                       0.000000  \n",
       "50%                        7.000000                       0.000000  \n",
       "75%                       21.000000                       3.000000  \n",
       "max                     1479.000000                     330.000000  "
      ]
     },
     "execution_count": 37,
     "metadata": {},
     "output_type": "execute_result"
    }
   ],
   "source": [
    "df.describe()"
   ]
  },
  {
   "cell_type": "code",
   "execution_count": 38,
   "metadata": {},
   "outputs": [
    {
     "data": {
      "text/plain": [
       "id_accs                           0\n",
       "active_deals                      0\n",
       "activity_count                    0\n",
       "buyer_book                        0\n",
       "servicing_contract                0\n",
       "investor_type                    21\n",
       "cmbs                              0\n",
       "consultant                        0\n",
       "correspondent                     0\n",
       "foreign                           0\n",
       "master_servicer                   0\n",
       "lender_book                       0\n",
       "loan_sales_book                   0\n",
       "loan_servicing                    0\n",
       "num_deals_as_client               0\n",
       "num_deals_as_investor             0\n",
       "number_of_properties              0\n",
       "number_of_related_deals           0\n",
       "number_of_related_properties      0\n",
       "number_of_won_deals_as_client     0\n",
       "dtype: int64"
      ]
     },
     "execution_count": 38,
     "metadata": {},
     "output_type": "execute_result"
    }
   ],
   "source": [
    "df.isnull().sum()"
   ]
  },
  {
   "cell_type": "code",
   "execution_count": 39,
   "metadata": {
    "scrolled": false
   },
   "outputs": [
    {
     "data": {
      "text/plain": [
       "(2756, 20)"
      ]
     },
     "execution_count": 39,
     "metadata": {},
     "output_type": "execute_result"
    }
   ],
   "source": [
    "df.shape"
   ]
  },
  {
   "cell_type": "code",
   "execution_count": 42,
   "metadata": {},
   "outputs": [
    {
     "name": "stdout",
     "output_type": "stream",
     "text": [
      "159\n"
     ]
    }
   ],
   "source": [
    "print len(df.active_deals.unique())\n",
    "#clear rows for market, region_c, \n",
    "# print len(df.id_deals.unique())\n",
    "# print len(df.id_deals.unique())\n",
    "# print len(df.id_accs.unique())\n",
    "# print len(df.id_props.unique())\n",
    "\n",
    "# in Accounts_properties, id column is same as id_deals\n",
    "# hence id_props is the unique id for the table properties\n",
    "# hence id_deals is the unique id for the table opportunities\n",
    "# Deals_to_Properties is linkage from properties to opportunities\n"
   ]
  },
  {
   "cell_type": "code",
   "execution_count": null,
   "metadata": {},
   "outputs": [],
   "source": []
  },
  {
   "cell_type": "code",
   "execution_count": 11,
   "metadata": {},
   "outputs": [],
   "source": []
  },
  {
   "cell_type": "code",
   "execution_count": 12,
   "metadata": {},
   "outputs": [],
   "source": []
  },
  {
   "cell_type": "code",
   "execution_count": null,
   "metadata": {},
   "outputs": [],
   "source": []
  }
 ],
 "metadata": {
  "kernelspec": {
   "display_name": "Python 2",
   "language": "python",
   "name": "python2"
  },
  "language_info": {
   "codemirror_mode": {
    "name": "ipython",
    "version": 2
   },
   "file_extension": ".py",
   "mimetype": "text/x-python",
   "name": "python",
   "nbconvert_exporter": "python",
   "pygments_lexer": "ipython2",
   "version": "2.7.12"
  }
 },
 "nbformat": 4,
 "nbformat_minor": 2
}
