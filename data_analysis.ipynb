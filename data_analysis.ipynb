{
 "cells": [
  {
   "cell_type": "code",
   "execution_count": 26,
   "metadata": {},
   "outputs": [],
   "source": [
    "import pandas as pd\n",
    "# df=pd.read_csv(\"/home/yash/Downloads/dataset/Affline_Dataset/Property dataset/Properties.csv\")\n",
    "# df=pd.read_csv(\"/home/yash/Downloads/dataset/Affline_Dataset/training dataset/Accounts.csv\")\n",
    "# df=pd.read_csv(\"/home/yash/Downloads/dataset/Affline_Dataset/training dataset/Accounts_properties.csv\")\n",
    "# df=pd.read_csv(\"/home/yash/Downloads/dataset/Affline_Dataset/training dataset/Deals_to_Properties.csv\")\n",
    "df=pd.read_csv(\"/home/yash/Downloads/dataset/Affline_Dataset/training dataset/Opportunities.csv\")"
   ]
  },
  {
   "cell_type": "code",
   "execution_count": 27,
   "metadata": {},
   "outputs": [
    {
     "data": {
      "text/html": [
       "<div>\n",
       "<style scoped>\n",
       "    .dataframe tbody tr th:only-of-type {\n",
       "        vertical-align: middle;\n",
       "    }\n",
       "\n",
       "    .dataframe tbody tr th {\n",
       "        vertical-align: top;\n",
       "    }\n",
       "\n",
       "    .dataframe thead th {\n",
       "        text-align: right;\n",
       "    }\n",
       "</style>\n",
       "<table border=\"1\" class=\"dataframe\">\n",
       "  <thead>\n",
       "    <tr style=\"text-align: right;\">\n",
       "      <th></th>\n",
       "      <th>id_deals</th>\n",
       "      <th>id_accs</th>\n",
       "      <th>accounting_date</th>\n",
       "      <th>best_initial_bid</th>\n",
       "      <th>id_deals.1</th>\n",
       "      <th>closedate</th>\n",
       "      <th>date_closed</th>\n",
       "      <th>deal_type</th>\n",
       "      <th>deal_update_flag</th>\n",
       "      <th>debt_yield</th>\n",
       "      <th>fiscal</th>\n",
       "      <th>fiscalquarter</th>\n",
       "      <th>fiscalyear</th>\n",
       "      <th>platform</th>\n",
       "      <th>property_group</th>\n",
       "      <th>property_type</th>\n",
       "    </tr>\n",
       "  </thead>\n",
       "  <tbody>\n",
       "    <tr>\n",
       "      <th>0</th>\n",
       "      <td>0062A00000moF1LQAU</td>\n",
       "      <td>0012A000023XvIOQA0</td>\n",
       "      <td>NaN</td>\n",
       "      <td>NaN</td>\n",
       "      <td>0062A00000moF1LQAU</td>\n",
       "      <td>8/12/2005</td>\n",
       "      <td>8/18/2005 0:00</td>\n",
       "      <td>Fixed-rate</td>\n",
       "      <td>True</td>\n",
       "      <td>NaN</td>\n",
       "      <td>2005 3</td>\n",
       "      <td>3</td>\n",
       "      <td>2005</td>\n",
       "      <td>Debt</td>\n",
       "      <td>Healthcare</td>\n",
       "      <td>Healthcare</td>\n",
       "    </tr>\n",
       "    <tr>\n",
       "      <th>1</th>\n",
       "      <td>0062A00000moF9LQAU</td>\n",
       "      <td>0012A000023YFe1QAG</td>\n",
       "      <td>NaN</td>\n",
       "      <td>NaN</td>\n",
       "      <td>0062A00000moF9LQAU</td>\n",
       "      <td>2/6/2012</td>\n",
       "      <td>6/27/2012 12:00</td>\n",
       "      <td>Fixed-rate</td>\n",
       "      <td>True</td>\n",
       "      <td>NaN</td>\n",
       "      <td>2012 1</td>\n",
       "      <td>1</td>\n",
       "      <td>2012</td>\n",
       "      <td>Debt</td>\n",
       "      <td>Healthcare</td>\n",
       "      <td>Biotech</td>\n",
       "    </tr>\n",
       "    <tr>\n",
       "      <th>2</th>\n",
       "      <td>0062A00000moGodQAE</td>\n",
       "      <td>0012A000023YEDcQAO</td>\n",
       "      <td>8/12/2004</td>\n",
       "      <td>NaN</td>\n",
       "      <td>0062A00000moGodQAE</td>\n",
       "      <td>11/24/2003</td>\n",
       "      <td>8/11/2004 0:00</td>\n",
       "      <td>Construction Loan</td>\n",
       "      <td>True</td>\n",
       "      <td>NaN</td>\n",
       "      <td>2003 4</td>\n",
       "      <td>4</td>\n",
       "      <td>2003</td>\n",
       "      <td>Debt</td>\n",
       "      <td>Healthcare</td>\n",
       "      <td>Biotech</td>\n",
       "    </tr>\n",
       "    <tr>\n",
       "      <th>3</th>\n",
       "      <td>0062A00000moBTHQA2</td>\n",
       "      <td>0012A000023YA3nQAG</td>\n",
       "      <td>NaN</td>\n",
       "      <td>NaN</td>\n",
       "      <td>0062A00000moBTHQA2</td>\n",
       "      <td>2/10/2006</td>\n",
       "      <td>4/19/2006 0:00</td>\n",
       "      <td>Fixed-rate</td>\n",
       "      <td>True</td>\n",
       "      <td>NaN</td>\n",
       "      <td>2006 1</td>\n",
       "      <td>1</td>\n",
       "      <td>2006</td>\n",
       "      <td>Debt</td>\n",
       "      <td>Healthcare</td>\n",
       "      <td>Healthcare</td>\n",
       "    </tr>\n",
       "    <tr>\n",
       "      <th>4</th>\n",
       "      <td>0062A00000mo8OjQAI</td>\n",
       "      <td>0012A000023XpRUQA0</td>\n",
       "      <td>NaN</td>\n",
       "      <td>NaN</td>\n",
       "      <td>0062A00000mo8OjQAI</td>\n",
       "      <td>7/13/2006</td>\n",
       "      <td>11/16/2006 0:00</td>\n",
       "      <td>Fixed-rate</td>\n",
       "      <td>True</td>\n",
       "      <td>NaN</td>\n",
       "      <td>2006 3</td>\n",
       "      <td>3</td>\n",
       "      <td>2006</td>\n",
       "      <td>Debt</td>\n",
       "      <td>Healthcare</td>\n",
       "      <td>Healthcare</td>\n",
       "    </tr>\n",
       "  </tbody>\n",
       "</table>\n",
       "</div>"
      ],
      "text/plain": [
       "             id_deals             id_accs accounting_date  best_initial_bid  \\\n",
       "0  0062A00000moF1LQAU  0012A000023XvIOQA0             NaN               NaN   \n",
       "1  0062A00000moF9LQAU  0012A000023YFe1QAG             NaN               NaN   \n",
       "2  0062A00000moGodQAE  0012A000023YEDcQAO       8/12/2004               NaN   \n",
       "3  0062A00000moBTHQA2  0012A000023YA3nQAG             NaN               NaN   \n",
       "4  0062A00000mo8OjQAI  0012A000023XpRUQA0             NaN               NaN   \n",
       "\n",
       "           id_deals.1   closedate      date_closed          deal_type  \\\n",
       "0  0062A00000moF1LQAU   8/12/2005   8/18/2005 0:00         Fixed-rate   \n",
       "1  0062A00000moF9LQAU    2/6/2012  6/27/2012 12:00         Fixed-rate   \n",
       "2  0062A00000moGodQAE  11/24/2003   8/11/2004 0:00  Construction Loan   \n",
       "3  0062A00000moBTHQA2   2/10/2006   4/19/2006 0:00         Fixed-rate   \n",
       "4  0062A00000mo8OjQAI   7/13/2006  11/16/2006 0:00         Fixed-rate   \n",
       "\n",
       "   deal_update_flag  debt_yield  fiscal  fiscalquarter  fiscalyear platform  \\\n",
       "0              True         NaN  2005 3              3        2005     Debt   \n",
       "1              True         NaN  2012 1              1        2012     Debt   \n",
       "2              True         NaN  2003 4              4        2003     Debt   \n",
       "3              True         NaN  2006 1              1        2006     Debt   \n",
       "4              True         NaN  2006 3              3        2006     Debt   \n",
       "\n",
       "  property_group property_type  \n",
       "0     Healthcare    Healthcare  \n",
       "1     Healthcare       Biotech  \n",
       "2     Healthcare       Biotech  \n",
       "3     Healthcare    Healthcare  \n",
       "4     Healthcare    Healthcare  "
      ]
     },
     "execution_count": 27,
     "metadata": {},
     "output_type": "execute_result"
    }
   ],
   "source": [
    "df.head()"
   ]
  },
  {
   "cell_type": "code",
   "execution_count": 28,
   "metadata": {},
   "outputs": [
    {
     "data": {
      "text/html": [
       "<div>\n",
       "<style scoped>\n",
       "    .dataframe tbody tr th:only-of-type {\n",
       "        vertical-align: middle;\n",
       "    }\n",
       "\n",
       "    .dataframe tbody tr th {\n",
       "        vertical-align: top;\n",
       "    }\n",
       "\n",
       "    .dataframe thead th {\n",
       "        text-align: right;\n",
       "    }\n",
       "</style>\n",
       "<table border=\"1\" class=\"dataframe\">\n",
       "  <thead>\n",
       "    <tr style=\"text-align: right;\">\n",
       "      <th></th>\n",
       "      <th>best_initial_bid</th>\n",
       "      <th>debt_yield</th>\n",
       "      <th>fiscalquarter</th>\n",
       "      <th>fiscalyear</th>\n",
       "    </tr>\n",
       "  </thead>\n",
       "  <tbody>\n",
       "    <tr>\n",
       "      <th>count</th>\n",
       "      <td>2.502800e+04</td>\n",
       "      <td>13851.000000</td>\n",
       "      <td>26029.000000</td>\n",
       "      <td>26029.000000</td>\n",
       "    </tr>\n",
       "    <tr>\n",
       "      <th>mean</th>\n",
       "      <td>2.968110e+06</td>\n",
       "      <td>0.927224</td>\n",
       "      <td>2.871528</td>\n",
       "      <td>2008.242153</td>\n",
       "    </tr>\n",
       "    <tr>\n",
       "      <th>std</th>\n",
       "      <td>2.261392e+07</td>\n",
       "      <td>2.888600</td>\n",
       "      <td>1.167216</td>\n",
       "      <td>5.262988</td>\n",
       "    </tr>\n",
       "    <tr>\n",
       "      <th>min</th>\n",
       "      <td>0.000000e+00</td>\n",
       "      <td>0.000000</td>\n",
       "      <td>1.000000</td>\n",
       "      <td>2002.000000</td>\n",
       "    </tr>\n",
       "    <tr>\n",
       "      <th>25%</th>\n",
       "      <td>0.000000e+00</td>\n",
       "      <td>0.000000</td>\n",
       "      <td>2.000000</td>\n",
       "      <td>2002.000000</td>\n",
       "    </tr>\n",
       "    <tr>\n",
       "      <th>50%</th>\n",
       "      <td>0.000000e+00</td>\n",
       "      <td>0.000000</td>\n",
       "      <td>3.000000</td>\n",
       "      <td>2007.000000</td>\n",
       "    </tr>\n",
       "    <tr>\n",
       "      <th>75%</th>\n",
       "      <td>0.000000e+00</td>\n",
       "      <td>0.000000</td>\n",
       "      <td>4.000000</td>\n",
       "      <td>2013.000000</td>\n",
       "    </tr>\n",
       "    <tr>\n",
       "      <th>max</th>\n",
       "      <td>1.447140e+09</td>\n",
       "      <td>30.000000</td>\n",
       "      <td>4.000000</td>\n",
       "      <td>2016.000000</td>\n",
       "    </tr>\n",
       "  </tbody>\n",
       "</table>\n",
       "</div>"
      ],
      "text/plain": [
       "       best_initial_bid    debt_yield  fiscalquarter    fiscalyear\n",
       "count      2.502800e+04  13851.000000   26029.000000  26029.000000\n",
       "mean       2.968110e+06      0.927224       2.871528   2008.242153\n",
       "std        2.261392e+07      2.888600       1.167216      5.262988\n",
       "min        0.000000e+00      0.000000       1.000000   2002.000000\n",
       "25%        0.000000e+00      0.000000       2.000000   2002.000000\n",
       "50%        0.000000e+00      0.000000       3.000000   2007.000000\n",
       "75%        0.000000e+00      0.000000       4.000000   2013.000000\n",
       "max        1.447140e+09     30.000000       4.000000   2016.000000"
      ]
     },
     "execution_count": 28,
     "metadata": {},
     "output_type": "execute_result"
    }
   ],
   "source": [
    "df.describe()"
   ]
  },
  {
   "cell_type": "code",
   "execution_count": 29,
   "metadata": {},
   "outputs": [
    {
     "data": {
      "text/plain": [
       "id_deals                0\n",
       "id_accs                 0\n",
       "accounting_date       513\n",
       "best_initial_bid     1001\n",
       "id_deals.1              0\n",
       "closedate               0\n",
       "date_closed           504\n",
       "deal_type               6\n",
       "deal_update_flag        0\n",
       "debt_yield          12178\n",
       "fiscal                  0\n",
       "fiscalquarter           0\n",
       "fiscalyear              0\n",
       "platform                6\n",
       "property_group          2\n",
       "property_type           2\n",
       "dtype: int64"
      ]
     },
     "execution_count": 29,
     "metadata": {},
     "output_type": "execute_result"
    }
   ],
   "source": [
    "df.isnull().sum()"
   ]
  },
  {
   "cell_type": "code",
   "execution_count": 30,
   "metadata": {
    "scrolled": false
   },
   "outputs": [
    {
     "data": {
      "text/plain": [
       "(26029, 16)"
      ]
     },
     "execution_count": 30,
     "metadata": {},
     "output_type": "execute_result"
    }
   ],
   "source": [
    "df.shape"
   ]
  },
  {
   "cell_type": "code",
   "execution_count": 31,
   "metadata": {},
   "outputs": [
    {
     "name": "stdout",
     "output_type": "stream",
     "text": [
      "26029\n"
     ]
    }
   ],
   "source": [
    "# print len(df.active_deals.unique())\n",
    "#clear rows for market, region_c,\n",
    "print len(df.id_deals.unique())\n",
    "# print len(df.id_accs.unique())\n",
    "# print len(df.id_props.unique())\n",
    "\n",
    "# in Accounts_properties, id column is same as id_deals\n",
    "# hence id_props is the unique id for the table properties\n",
    "# hence id_deals is the unique id for the table opportunities\n",
    "# Deals_to_Properties is linkage from properties to opportunities\n"
   ]
  },
  {
   "cell_type": "code",
   "execution_count": null,
   "metadata": {},
   "outputs": [],
   "source": []
  },
  {
   "cell_type": "code",
   "execution_count": 11,
   "metadata": {},
   "outputs": [],
   "source": []
  },
  {
   "cell_type": "code",
   "execution_count": 12,
   "metadata": {},
   "outputs": [],
   "source": []
  },
  {
   "cell_type": "code",
   "execution_count": null,
   "metadata": {},
   "outputs": [],
   "source": []
  }
 ],
 "metadata": {
  "kernelspec": {
   "display_name": "Python 2",
   "language": "python",
   "name": "python2"
  },
  "language_info": {
   "codemirror_mode": {
    "name": "ipython",
    "version": 2
   },
   "file_extension": ".py",
   "mimetype": "text/x-python",
   "name": "python",
   "nbconvert_exporter": "python",
   "pygments_lexer": "ipython2",
   "version": "2.7.12"
  }
 },
 "nbformat": 4,
 "nbformat_minor": 2
}
