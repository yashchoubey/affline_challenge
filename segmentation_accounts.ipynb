{
 "cells": [
  {
   "cell_type": "code",
   "execution_count": 1,
   "metadata": {},
   "outputs": [],
   "source": [
    "import pandas as pd\n",
    "\n",
    "df=pd.read_csv(\"/home/yash/Downloads/dataset/Affline_Dataset/training dataset/Accounts.csv\")"
   ]
  },
  {
   "cell_type": "code",
   "execution_count": 2,
   "metadata": {},
   "outputs": [
    {
     "data": {
      "text/plain": [
       "Index([u'id_accs', u'active_deals', u'activity_count', u'buyer_book',\n",
       "       u'servicing_contract', u'investor_type', u'cmbs', u'consultant',\n",
       "       u'correspondent', u'foreign', u'master_servicer', u'lender_book',\n",
       "       u'loan_sales_book', u'loan_servicing', u'num_deals_as_client',\n",
       "       u'num_deals_as_investor', u'number_of_properties',\n",
       "       u'number_of_related_deals', u'number_of_related_properties',\n",
       "       u'number_of_won_deals_as_client'],\n",
       "      dtype='object')"
      ]
     },
     "execution_count": 2,
     "metadata": {},
     "output_type": "execute_result"
    }
   ],
   "source": [
    "df.columns"
   ]
  },
  {
   "cell_type": "code",
   "execution_count": 9,
   "metadata": {},
   "outputs": [
    {
     "name": "stdout",
     "output_type": "stream",
     "text": [
      "id_accs ['0012A000023XlCCQA0' '0012A000023XmOxQAK' '0012A000023YLqwQAG' ...\n",
      " '0012A000029lEc5QAE' '0012A000029wIEXQA2' '0012A00002IbcsiQAB']\n",
      "active_deals [   1    9  891   34  283   39  261   14   11  372   24  606    3   45\n",
      "    7   44  324  217  117   36  364   20  379  278    4    8 1494   16\n",
      "   26   23  288   15   76   67   19  134   47   12    0   77  854   29\n",
      "   46   75   10  133  406  230    2   74    6   35   13   27  113   43\n",
      "   81   63    5  151  149   53   72  105   22  108   25   99  125   91\n",
      "   40  359  294   71   17  120   42   56   52   18   65  303   37  152\n",
      " 1134  186   61   48  153  284   21   31   87   30   80  138   86  169\n",
      "  103   82  118   69  777   38   92  299   41  204  116   32  184  376\n",
      "  127   62  460  148   79 2215  672   59   98   55   33   70   28   66\n",
      "  315   57   78   58   88  119  437  107  342  318  313  257   64   51\n",
      "  123   49   83   89  131  139   50  265  104   54   68  137   94  216\n",
      "   97   60  159  160  293]\n",
      "activity_count [ 2367  7974 50161 ...  6320   134  9825]\n",
      "buyer_book [ True False]\n",
      "servicing_contract [False  True]\n",
      "investor_type ['Private Investor/Developer' 'REIT' 'Bank / Thrift' 'Conduit/CMBS'\n",
      " 'Life Insurance Company' 'Advisor/Equity Fund'\n",
      " 'Credit/Specialty Finance Company' 'Agency' 'Property Owner' 'Account'\n",
      " 'Corporate Investor/User' 'Unknown' 'Pension Fund' nan\n",
      " 'Sovereign Wealth Fund' 'Special Servicer' 'Endowment' 'Property Lender'\n",
      " 'Tenants in Common']\n",
      "cmbs [False  True]\n",
      "consultant [False]\n",
      "correspondent [False  True]\n",
      "foreign [False  True]\n",
      "master_servicer [False  True]\n",
      "lender_book [False  True]\n",
      "loan_sales_book [False  True]\n",
      "loan_servicing [False  True]\n",
      "num_deals_as_client [  0   7  40  63  35   9  10   2  20  51  42  24 170   1  15 126  92  12\n",
      " 101   6   3  11  16 224  25  17   8  32  57  14  23   5  38  46  50  48\n",
      " 140  55  34  18  66  29  43  22  82 113  39  28   4  94  93  70  13 239\n",
      "  30 105 118  33  54  45  31 135  36  78 152  44 146  80  73  21  81  67\n",
      "  41  27  37 110 121 165  19  49  88  62  60 102 333 240  61  79  26  64\n",
      "  47 123  90  96  69  65  68  71]\n",
      "num_deals_as_investor [   1    2  851   34  220    4  221    5  370  555    3   10    7  300\n",
      "   47  116   21  238   20  287   22  177 1491    8   64    6   41   65\n",
      "  253  126   15   12    0  840    9   29   83  358   90   11   14   19\n",
      "   80  129   67   24   77   18   33   98   32  120   13  189   16   72\n",
      "   49   36  293   50   17 1056  185   60   30  117  157   28  748   23\n",
      "   35   91   68  159   61  178   45  369  295   76   38 2205   25  657\n",
      "   71  310   31   84   58   40   42  433  312   57   39  112   48   44\n",
      "   53  114   73  115   74  256  216   27   26  119  158   51  290   54\n",
      "   52]\n",
      "number_of_properties [   1   77  693    0  393   57  138   64    2   11  108   58   44    4\n",
      "  558   60  155   33   56   86   80  133   16   19   10   25  247   23\n",
      "  148   67    6    7  204  127   35    5  105  257   65   34   14    9\n",
      "  142   13    8   53   21    3   41   43  330  106  115   20   97   78\n",
      "   68   26   83   28  156  163   36   49   27  128   30  519   69 1124\n",
      "   29   12   84 1295   45   62   18   82   39   50   51   24  210   17\n",
      "  125  455   15  760   76  260   32  137   46   55  231   52  350  132\n",
      "   42   63   54   75   88   95   31   73  339  100   71   47   91  370\n",
      "   90  172  215   99   70   40  159  150  176  114   85  122  109  121\n",
      "  144   37  563  376  153  220  359 1335   98  568   38   22  290  396\n",
      "   66  573  226  199  112   61   74   72   89  110  143  222  167   48\n",
      "  141  140  377  223  147  926  134  311  120   59   79  475   87   81\n",
      "  130  189  145  272  389  104  980  179  178  182  442   96  165  303\n",
      "  135  278  102  180  301   94  101]\n",
      "number_of_related_deals [   2   18  996   45  383   64  283   40   16    0   47  664    3   69\n",
      "    7   87  362  339  132   66  410   25  478   52  375   10   12 1576\n",
      "   31   13   30   28  355  128  118  189   21  171   54   15  122  955\n",
      "   42   11   32  133    1   17  199  502  353   14  103    6   68   43\n",
      "    4    8    9  174   74   89   83    5   19  224  206   29  185   81\n",
      "   97   20  162   26  117  176  145   55  476   41   22  404   48  116\n",
      "  134   56   57   24   37  334   34  521   77  222  131 1368  261   27\n",
      "   79  197   33   94  212  384  130   50  113   61  146  186  129  136\n",
      "  798   58  107  294  148  252  175   60  205  390  215   78  563   38\n",
      "   46   39  121 2137   75  671  110   36  101  161   71  111   51  211\n",
      "   73   23   44   86  295  106  251  456  584   35  385   70   72  150\n",
      "  123   76   49  241   92   88  143   80   59  196  157   99  231   53\n",
      "  114   95   65  179  160  158  257  105  119]\n",
      "number_of_related_properties [   1   85 1167   14  591   58  276   71    2  164  381   51    5   64\n",
      "  231  643  116  166  423  359   81  255   16 1152   10   23   11   27\n",
      "  299  193  304    6   73  101  229   28    4  146  470   45    7    8\n",
      "  139  309   65   36   84    9   26  382  145   15   54   21   41    3\n",
      "   12   44  383  128   25  137   97   92   80  122  180   34   19  197\n",
      "   47   49   38  138   33  579 1166   29   67   55 1479   24  172  120\n",
      "   52   61   32  230   13   86  239  198  455   20  817  118  302  766\n",
      "  290  174   62  260   17   50  377   75  133  112   53  248   66   63\n",
      "   57   31   79   83   35   88  337   18   98   91  207  373   22  107\n",
      "   56   69  130  257  246   82   68   90   30  194  106  523  100  165\n",
      "  115   74  157  176  132   95  110   46   96   72   77   78   48  211\n",
      "  168   59  150  642  393  124  253  378  148  315   42  141 1352  568\n",
      "   40   76  291  418  111   39  573   43  226  161  119   70  163  104\n",
      "   37  170  156  142  412  224  147  105  926  135  321  123  481   89\n",
      "  103  158  134  217  167  109  273   94  401  981  179  181  190  449\n",
      "  316  297  195   99  102]\n",
      "number_of_won_deals_as_client [  0   7  37  46  32  30  10   1  19  38  25  24 133  15 103  72   9  88\n",
      "   5   2   3  16  14 188   8  28  17   6  26  12  27  45  29  99  51  47\n",
      "  20  11  48 107  31  22   4  79  35  69  52  13 184  50 117  33  34  18\n",
      " 111  62  43 134 181  66  63  71  74 115 150  39  44  21  83  56  53 100\n",
      " 330 233  59  23  41  61  95  54  65]\n"
     ]
    }
   ],
   "source": [
    "for x in df.columns:\n",
    "#     print x\n",
    "    print x,df[x].unique()"
   ]
  },
  {
   "cell_type": "code",
   "execution_count": null,
   "metadata": {},
   "outputs": [],
   "source": []
  }
 ],
 "metadata": {
  "kernelspec": {
   "display_name": "Python 2",
   "language": "python",
   "name": "python2"
  },
  "language_info": {
   "codemirror_mode": {
    "name": "ipython",
    "version": 2
   },
   "file_extension": ".py",
   "mimetype": "text/x-python",
   "name": "python",
   "nbconvert_exporter": "python",
   "pygments_lexer": "ipython2",
   "version": "2.7.12"
  }
 },
 "nbformat": 4,
 "nbformat_minor": 2
}
